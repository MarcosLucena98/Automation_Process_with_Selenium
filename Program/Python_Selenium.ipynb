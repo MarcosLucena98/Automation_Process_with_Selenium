{
 "cells": [
  {
   "cell_type": "markdown",
   "id": "72e3f58d",
   "metadata": {},
   "source": [
    "# Web Automation and Search information with Python\n",
    "\n",
    "### Problem:\n",
    "\n",
    "We working in an Importation, and our prices charged for our products are linked to the quotation:\n",
    "\n",
    "- **Dollar**\n",
    "- **Euro**\n",
    "- **Gold**\n",
    "\n",
    "We need to automatically get the price of these 3 items from internet and know how much we should charge for our products, considering a contribution margin that we have in our database.\n",
    "\n",
    "DataBase: \n",
    "\n",
    "For this, we'll create a web automation:\n",
    "\n",
    "- We'll use Selenium\n",
    "- **IMPORTANT**: Download webdriver"
   ]
  },
  {
   "cell_type": "code",
   "execution_count": null,
   "id": "afe7cd28",
   "metadata": {},
   "outputs": [
    {
     "ename": "",
     "evalue": "",
     "output_type": "error",
     "traceback": [
      "\u001b[1;31mUnable to start Kernel 'Python 3.10.1 64-bit' due to connection timeout. \n",
      "View Jupyter <a href='command:jupyter.viewOutput'>log</a> for further details."
     ]
    }
   ],
   "source": [
    "# pip install selenium\n",
    "# pip install pandas"
   ]
  },
  {
   "cell_type": "code",
   "execution_count": null,
   "id": "7ea0ab44",
   "metadata": {},
   "outputs": [],
   "source": [
    "# Import packages\n",
    "\n",
    "from selenium import webdriver\n",
    "from selenium.webdriver.common.by import By\n",
    "from selenium.webdriver.common.keys import Keys\n",
    "import pandas as pd"
   ]
  },
  {
   "cell_type": "code",
   "execution_count": null,
   "id": "bd7b5e95",
   "metadata": {},
   "outputs": [
    {
     "name": "stdout",
     "output_type": "stream",
     "text": [
      "5.5348999999999995\n"
     ]
    }
   ],
   "source": [
    "browser = webdriver.Chrome()\n",
    "\n",
    "# step 1: get the Dollar price.\n",
    "\n",
    "browser.get(\"https://www.google.com/\")\n",
    "\n",
    "browser.find_element(By.XPATH,\n",
    "                     '/html/body/div[1]/div[3]/form/div[1]/div[1]/div[1]/div/div[2]/input').send_keys(\"Cotação Dolar\")\n",
    "\n",
    "browser.find_element(By.XPATH,\n",
    "                     '/html/body/div[1]/div[3]/form/div[1]/div[1]/div[1]/div/div[2]/input').send_keys(Keys.ENTER)\n",
    "\n",
    "price_dollar = browser.find_element(By.XPATH,\n",
    "                     '//*[@id=\"knowledge-currency__updatable-data-column\"]/div[1]/div[2]/span[1]').get_attribute(\"data-value\")\n",
    "print(price_dollar)"
   ]
  },
  {
   "cell_type": "code",
   "execution_count": null,
   "id": "c5b010da",
   "metadata": {},
   "outputs": [
    {
     "name": "stdout",
     "output_type": "stream",
     "text": [
      "6.3182543970000005\n",
      "323.39\n"
     ]
    }
   ],
   "source": [
    "# step 2: get the Euro price.\n",
    "\n",
    "browser.get(\"https://www.google.com/\")\n",
    "\n",
    "browser.find_element(By.XPATH,\n",
    "                     '/html/body/div[1]/div[3]/form/div[1]/div[1]/div[1]/div/div[2]/input').send_keys(\"Cotação Euro\")\n",
    "\n",
    "browser.find_element(By.XPATH,\n",
    "                     '/html/body/div[1]/div[3]/form/div[1]/div[1]/div[1]/div/div[2]/input').send_keys(Keys.ENTER)\n",
    "\n",
    "price_euro = browser.find_element(By.XPATH,\n",
    "                     '//*[@id=\"knowledge-currency__updatable-data-column\"]/div[1]/div[2]/span[1]').get_attribute(\"data-value\")\n",
    "\n",
    "print(price_euro)\n",
    "\n",
    "# step 3: get the gold price.\n",
    "\n",
    "browser.get(\"https://www.melhorcambio.com/ouro-hoje\")\n",
    "\n",
    "price_gold = browser.find_element(By.XPATH,\n",
    "                     '//*[@id=\"comercial\"]').get_attribute(\"value\")\n",
    "price_gold = price_gold.replace(\",\",\".\")\n",
    "\n",
    "print(price_gold)\n",
    "\n",
    "browser.quit()"
   ]
  },
  {
   "cell_type": "markdown",
   "id": "b103c5e7",
   "metadata": {},
   "source": [
    "## Now, let's update our Pricing Base with the new quotes.\n",
    "\n",
    "- Import Database."
   ]
  },
  {
   "cell_type": "code",
   "execution_count": null,
   "id": "4c994823",
   "metadata": {},
   "outputs": [
    {
     "ename": "ModuleNotFoundError",
     "evalue": "No module named 'pandas'",
     "output_type": "error",
     "traceback": [
      "\u001b[1;31m---------------------------------------------------------------------------\u001b[0m",
      "\u001b[1;31mModuleNotFoundError\u001b[0m                       Traceback (most recent call last)",
      "Input \u001b[1;32mIn [5]\u001b[0m, in \u001b[0;36m<module>\u001b[1;34m\u001b[0m\n\u001b[0;32m      1\u001b[0m \u001b[38;5;66;03m# step 4: Import database and update the price in my database\u001b[39;00m\n\u001b[1;32m----> 3\u001b[0m \u001b[38;5;28;01mimport\u001b[39;00m \u001b[38;5;21;01mpandas\u001b[39;00m \u001b[38;5;28;01mas\u001b[39;00m \u001b[38;5;21;01mpd\u001b[39;00m\n\u001b[0;32m      5\u001b[0m table \u001b[38;5;241m=\u001b[39m pd\u001b[38;5;241m.\u001b[39mread_excel(\u001b[38;5;124m\"\u001b[39m\u001b[38;5;124mC:/Users/Pedro/Downloads/Produtos.xlsx\u001b[39m\u001b[38;5;124m\"\u001b[39m)\n\u001b[0;32m      6\u001b[0m display(table)\n",
      "\u001b[1;31mModuleNotFoundError\u001b[0m: No module named 'pandas'"
     ]
    }
   ],
   "source": [
    "# step 4: Import database and update the price in my database\n",
    "\n",
    "table = pd.read_excel(\"C:/Users/Pedro/Downloads/Produtos.xlsx\")\n",
    "display(table)"
   ]
  },
  {
   "cell_type": "markdown",
   "id": "77f00a70",
   "metadata": {},
   "source": [
    "- Update prices and the final price calculation"
   ]
  },
  {
   "cell_type": "code",
   "execution_count": null,
   "id": "e35d95a0",
   "metadata": {},
   "outputs": [
    {
     "data": {
      "text/html": [
       "<div>\n",
       "<style scoped>\n",
       "    .dataframe tbody tr th:only-of-type {\n",
       "        vertical-align: middle;\n",
       "    }\n",
       "\n",
       "    .dataframe tbody tr th {\n",
       "        vertical-align: top;\n",
       "    }\n",
       "\n",
       "    .dataframe thead th {\n",
       "        text-align: right;\n",
       "    }\n",
       "</style>\n",
       "<table border=\"1\" class=\"dataframe\">\n",
       "  <thead>\n",
       "    <tr style=\"text-align: right;\">\n",
       "      <th></th>\n",
       "      <th>Produtos</th>\n",
       "      <th>Preço Original</th>\n",
       "      <th>Moeda</th>\n",
       "      <th>Cotação</th>\n",
       "      <th>Preço de Compra</th>\n",
       "      <th>Margem</th>\n",
       "      <th>Preço de Venda</th>\n",
       "    </tr>\n",
       "  </thead>\n",
       "  <tbody>\n",
       "    <tr>\n",
       "      <th>0</th>\n",
       "      <td>Câmera Canon</td>\n",
       "      <td>999.99</td>\n",
       "      <td>Dólar</td>\n",
       "      <td>5.538400</td>\n",
       "      <td>4999.95</td>\n",
       "      <td>1.40</td>\n",
       "      <td>6999.930</td>\n",
       "    </tr>\n",
       "    <tr>\n",
       "      <th>1</th>\n",
       "      <td>Carro Renault</td>\n",
       "      <td>4500.00</td>\n",
       "      <td>Euro</td>\n",
       "      <td>6.334804</td>\n",
       "      <td>27000.00</td>\n",
       "      <td>2.00</td>\n",
       "      <td>54000.000</td>\n",
       "    </tr>\n",
       "    <tr>\n",
       "      <th>2</th>\n",
       "      <td>Notebook Dell</td>\n",
       "      <td>899.99</td>\n",
       "      <td>Dólar</td>\n",
       "      <td>5.538400</td>\n",
       "      <td>4499.95</td>\n",
       "      <td>1.70</td>\n",
       "      <td>7649.915</td>\n",
       "    </tr>\n",
       "    <tr>\n",
       "      <th>3</th>\n",
       "      <td>IPhone</td>\n",
       "      <td>799.00</td>\n",
       "      <td>Dólar</td>\n",
       "      <td>5.538400</td>\n",
       "      <td>3995.00</td>\n",
       "      <td>1.70</td>\n",
       "      <td>6791.500</td>\n",
       "    </tr>\n",
       "    <tr>\n",
       "      <th>4</th>\n",
       "      <td>Carro Fiat</td>\n",
       "      <td>3000.00</td>\n",
       "      <td>Euro</td>\n",
       "      <td>6.334804</td>\n",
       "      <td>18000.00</td>\n",
       "      <td>1.90</td>\n",
       "      <td>34200.000</td>\n",
       "    </tr>\n",
       "    <tr>\n",
       "      <th>5</th>\n",
       "      <td>Celular Xiaomi</td>\n",
       "      <td>480.48</td>\n",
       "      <td>Dólar</td>\n",
       "      <td>5.538400</td>\n",
       "      <td>2402.40</td>\n",
       "      <td>2.00</td>\n",
       "      <td>4804.800</td>\n",
       "    </tr>\n",
       "    <tr>\n",
       "      <th>6</th>\n",
       "      <td>Joia 20g</td>\n",
       "      <td>20.00</td>\n",
       "      <td>Ouro</td>\n",
       "      <td>324.290000</td>\n",
       "      <td>7000.00</td>\n",
       "      <td>1.15</td>\n",
       "      <td>8050.000</td>\n",
       "    </tr>\n",
       "  </tbody>\n",
       "</table>\n",
       "</div>"
      ],
      "text/plain": [
       "         Produtos  Preço Original  Moeda     Cotação  Preço de Compra  Margem  \\\n",
       "0    Câmera Canon          999.99  Dólar    5.538400          4999.95    1.40   \n",
       "1   Carro Renault         4500.00   Euro    6.334804         27000.00    2.00   \n",
       "2   Notebook Dell          899.99  Dólar    5.538400          4499.95    1.70   \n",
       "3          IPhone          799.00  Dólar    5.538400          3995.00    1.70   \n",
       "4      Carro Fiat         3000.00   Euro    6.334804         18000.00    1.90   \n",
       "5  Celular Xiaomi          480.48  Dólar    5.538400          2402.40    2.00   \n",
       "6        Joia 20g           20.00   Ouro  324.290000          7000.00    1.15   \n",
       "\n",
       "   Preço de Venda  \n",
       "0        6999.930  \n",
       "1       54000.000  \n",
       "2        7649.915  \n",
       "3        6791.500  \n",
       "4       34200.000  \n",
       "5        4804.800  \n",
       "6        8050.000  "
      ]
     },
     "metadata": {},
     "output_type": "display_data"
    }
   ],
   "source": [
    "# Step 5: Calculate the new prices and save the database\n",
    "\n",
    "table.loc[table['Moeda'] == 'Dólar','Cotação'] = float(price_dollar)\n",
    "table.loc[table['Moeda'] == 'Euro','Cotação'] = float(price_euro)\n",
    "table.loc[table['Moeda'] == 'Ouro','Cotação'] = float(price_gold)\n",
    "\n",
    "display(table)"
   ]
  },
  {
   "cell_type": "markdown",
   "id": "e7d9192a",
   "metadata": {},
   "source": [
    "## Update columns\n"
   ]
  },
  {
   "cell_type": "markdown",
   "id": "78d6a30c",
   "metadata": {},
   "source": [
    "### - purchase price = Original Price * Quotes\n",
    "### - Sales price = purchase Price * markup"
   ]
  },
  {
   "cell_type": "code",
   "execution_count": null,
   "id": "81f111d9",
   "metadata": {},
   "outputs": [
    {
     "data": {
      "text/html": [
       "<div>\n",
       "<style scoped>\n",
       "    .dataframe tbody tr th:only-of-type {\n",
       "        vertical-align: middle;\n",
       "    }\n",
       "\n",
       "    .dataframe tbody tr th {\n",
       "        vertical-align: top;\n",
       "    }\n",
       "\n",
       "    .dataframe thead th {\n",
       "        text-align: right;\n",
       "    }\n",
       "</style>\n",
       "<table border=\"1\" class=\"dataframe\">\n",
       "  <thead>\n",
       "    <tr style=\"text-align: right;\">\n",
       "      <th></th>\n",
       "      <th>Produtos</th>\n",
       "      <th>Preço Original</th>\n",
       "      <th>Moeda</th>\n",
       "      <th>Cotação</th>\n",
       "      <th>Preço de Compra</th>\n",
       "      <th>Margem</th>\n",
       "      <th>Preço de Venda</th>\n",
       "    </tr>\n",
       "  </thead>\n",
       "  <tbody>\n",
       "    <tr>\n",
       "      <th>0</th>\n",
       "      <td>Câmera Canon</td>\n",
       "      <td>999.99</td>\n",
       "      <td>Dólar</td>\n",
       "      <td>5.538400</td>\n",
       "      <td>5538.344616</td>\n",
       "      <td>1.40</td>\n",
       "      <td>7753.682462</td>\n",
       "    </tr>\n",
       "    <tr>\n",
       "      <th>1</th>\n",
       "      <td>Carro Renault</td>\n",
       "      <td>4500.00</td>\n",
       "      <td>Euro</td>\n",
       "      <td>6.334804</td>\n",
       "      <td>28506.619980</td>\n",
       "      <td>2.00</td>\n",
       "      <td>57013.239960</td>\n",
       "    </tr>\n",
       "    <tr>\n",
       "      <th>2</th>\n",
       "      <td>Notebook Dell</td>\n",
       "      <td>899.99</td>\n",
       "      <td>Dólar</td>\n",
       "      <td>5.538400</td>\n",
       "      <td>4984.504616</td>\n",
       "      <td>1.70</td>\n",
       "      <td>8473.657847</td>\n",
       "    </tr>\n",
       "    <tr>\n",
       "      <th>3</th>\n",
       "      <td>IPhone</td>\n",
       "      <td>799.00</td>\n",
       "      <td>Dólar</td>\n",
       "      <td>5.538400</td>\n",
       "      <td>4425.181600</td>\n",
       "      <td>1.70</td>\n",
       "      <td>7522.808720</td>\n",
       "    </tr>\n",
       "    <tr>\n",
       "      <th>4</th>\n",
       "      <td>Carro Fiat</td>\n",
       "      <td>3000.00</td>\n",
       "      <td>Euro</td>\n",
       "      <td>6.334804</td>\n",
       "      <td>19004.413320</td>\n",
       "      <td>1.90</td>\n",
       "      <td>36108.385308</td>\n",
       "    </tr>\n",
       "    <tr>\n",
       "      <th>5</th>\n",
       "      <td>Celular Xiaomi</td>\n",
       "      <td>480.48</td>\n",
       "      <td>Dólar</td>\n",
       "      <td>5.538400</td>\n",
       "      <td>2661.090432</td>\n",
       "      <td>2.00</td>\n",
       "      <td>5322.180864</td>\n",
       "    </tr>\n",
       "    <tr>\n",
       "      <th>6</th>\n",
       "      <td>Joia 20g</td>\n",
       "      <td>20.00</td>\n",
       "      <td>Ouro</td>\n",
       "      <td>324.290000</td>\n",
       "      <td>6485.800000</td>\n",
       "      <td>1.15</td>\n",
       "      <td>7458.670000</td>\n",
       "    </tr>\n",
       "  </tbody>\n",
       "</table>\n",
       "</div>"
      ],
      "text/plain": [
       "         Produtos  Preço Original  Moeda     Cotação  Preço de Compra  Margem  \\\n",
       "0    Câmera Canon          999.99  Dólar    5.538400      5538.344616    1.40   \n",
       "1   Carro Renault         4500.00   Euro    6.334804     28506.619980    2.00   \n",
       "2   Notebook Dell          899.99  Dólar    5.538400      4984.504616    1.70   \n",
       "3          IPhone          799.00  Dólar    5.538400      4425.181600    1.70   \n",
       "4      Carro Fiat         3000.00   Euro    6.334804     19004.413320    1.90   \n",
       "5  Celular Xiaomi          480.48  Dólar    5.538400      2661.090432    2.00   \n",
       "6        Joia 20g           20.00   Ouro  324.290000      6485.800000    1.15   \n",
       "\n",
       "   Preço de Venda  \n",
       "0     7753.682462  \n",
       "1    57013.239960  \n",
       "2     8473.657847  \n",
       "3     7522.808720  \n",
       "4    36108.385308  \n",
       "5     5322.180864  \n",
       "6     7458.670000  "
      ]
     },
     "metadata": {},
     "output_type": "display_data"
    }
   ],
   "source": [
    "table[\"Preço de Compra\"] = table[\"Preço Original\"] * table[\"Cotação\"]\n",
    "table[\"Preço de Venda\"] = table[\"Preço de Compra\"] * table[\"Margem\"]\n",
    "\n",
    "display(table)"
   ]
  },
  {
   "cell_type": "markdown",
   "id": "8621d144",
   "metadata": {},
   "source": [
    "### - Now we are going to export the new updated price base."
   ]
  },
  {
   "cell_type": "code",
   "execution_count": null,
   "id": "2f96eea3",
   "metadata": {},
   "outputs": [],
   "source": [
    "table.to_excel(\"New_Products.xlsx\", index=False)"
   ]
  }
 ],
 "metadata": {
  "kernelspec": {
   "display_name": "Python 3 (ipykernel)",
   "language": "python",
   "name": "python3"
  },
  "language_info": {
   "codemirror_mode": {
    "name": "ipython",
    "version": 3
   },
   "file_extension": ".py",
   "mimetype": "text/x-python",
   "name": "python",
   "nbconvert_exporter": "python",
   "pygments_lexer": "ipython3",
   "version": "3.10.1"
  }
 },
 "nbformat": 4,
 "nbformat_minor": 5
}
